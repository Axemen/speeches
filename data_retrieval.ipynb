{
 "cells": [
  {
   "cell_type": "code",
   "execution_count": 47,
   "metadata": {},
   "outputs": [],
   "source": [
    "from splinter import Browser\n",
    "from bs4 import BeautifulSoup\n",
    "from time import sleep\n",
    "import requests as r\n",
    "import pandas as pd\n",
    "from tqdm import tqdm_notebook\n",
    "import json\n",
    "\n",
    "import seaborn as sns\n",
    "import matplotlib.pyplot as plt"
   ]
  },
  {
   "cell_type": "code",
   "execution_count": null,
   "metadata": {},
   "outputs": [],
   "source": [
    "browser = Browser('chrome', headless = False)"
   ]
  },
  {
   "cell_type": "code",
   "execution_count": 5,
   "metadata": {},
   "outputs": [],
   "source": [
    "browser.visit('https://millercenter.org/the-presidency/presidential-speeches')"
   ]
  },
  {
   "cell_type": "code",
   "execution_count": 8,
   "metadata": {},
   "outputs": [
    {
     "data": {
      "application/vnd.jupyter.widget-view+json": {
       "model_id": "d3ad988bb8344e0993aabfd1f185406c",
       "version_major": 2,
       "version_minor": 0
      },
      "text/plain": [
       "HBox(children=(IntProgress(value=0, max=200), HTML(value='')))"
      ]
     },
     "metadata": {},
     "output_type": "display_data"
    },
    {
     "ename": "KeyboardInterrupt",
     "evalue": "",
     "output_type": "error",
     "traceback": [
      "\u001b[1;31m---------------------------------------------------------------------------\u001b[0m",
      "\u001b[1;31mKeyboardInterrupt\u001b[0m                         Traceback (most recent call last)",
      "\u001b[1;32m<ipython-input-8-4075a5e9b14a>\u001b[0m in \u001b[0;36m<module>\u001b[1;34m\u001b[0m\n\u001b[0;32m      2\u001b[0m \u001b[1;32mfor\u001b[0m \u001b[0mi\u001b[0m \u001b[1;32min\u001b[0m \u001b[0mtqdm_notebook\u001b[0m\u001b[1;33m(\u001b[0m\u001b[0mrange\u001b[0m\u001b[1;33m(\u001b[0m\u001b[1;36m200\u001b[0m\u001b[1;33m)\u001b[0m\u001b[1;33m)\u001b[0m\u001b[1;33m:\u001b[0m\u001b[1;33m\u001b[0m\u001b[1;33m\u001b[0m\u001b[0m\n\u001b[0;32m      3\u001b[0m     \u001b[0mbrowser\u001b[0m\u001b[1;33m.\u001b[0m\u001b[0mexecute_script\u001b[0m\u001b[1;33m(\u001b[0m\u001b[1;34m\"window.scrollTo(0, document.body.scrollHeight);\"\u001b[0m\u001b[1;33m)\u001b[0m\u001b[1;33m\u001b[0m\u001b[1;33m\u001b[0m\u001b[0m\n\u001b[1;32m----> 4\u001b[1;33m     \u001b[0msleep\u001b[0m\u001b[1;33m(\u001b[0m\u001b[1;36m1\u001b[0m\u001b[1;33m)\u001b[0m\u001b[1;33m\u001b[0m\u001b[1;33m\u001b[0m\u001b[0m\n\u001b[0m",
      "\u001b[1;31mKeyboardInterrupt\u001b[0m: "
     ]
    }
   ],
   "source": [
    "# Script to load all speeching into the current HTML of the browser\n",
    "for i in tqdm_notebook(range(100)):\n",
    "    browser.execute_script(\"window.scrollTo(0, document.body.scrollHeight);\")\n",
    "    sleep(1)"
   ]
  },
  {
   "cell_type": "code",
   "execution_count": 9,
   "metadata": {},
   "outputs": [],
   "source": [
    "html = browser.html"
   ]
  },
  {
   "cell_type": "code",
   "execution_count": 10,
   "metadata": {},
   "outputs": [],
   "source": [
    "soup = BeautifulSoup(html, 'html.parser')"
   ]
  },
  {
   "cell_type": "code",
   "execution_count": 11,
   "metadata": {},
   "outputs": [],
   "source": [
    "speeches = soup.find('div', class_ = 'views-infinite-scroll-content-wrapper').find_all('a')"
   ]
  },
  {
   "cell_type": "code",
   "execution_count": 12,
   "metadata": {},
   "outputs": [
    {
     "data": {
      "text/plain": [
       "992"
      ]
     },
     "execution_count": 12,
     "metadata": {},
     "output_type": "execute_result"
    }
   ],
   "source": [
    "len(speeches)"
   ]
  },
  {
   "cell_type": "code",
   "execution_count": 13,
   "metadata": {},
   "outputs": [
    {
     "data": {
      "text/plain": [
       "<a href=\"/the-presidency/presidential-speeches/september-25-2019-press-conference\" hreflang=\"en\">September 25, 2019: Press Conference</a>"
      ]
     },
     "execution_count": 13,
     "metadata": {},
     "output_type": "execute_result"
    }
   ],
   "source": [
    "speeches[0]"
   ]
  },
  {
   "cell_type": "code",
   "execution_count": 14,
   "metadata": {},
   "outputs": [
    {
     "data": {
      "text/plain": [
       "'/the-presidency/presidential-speeches/september-24-2019-remarks-united-nations-general-assembly'"
      ]
     },
     "execution_count": 14,
     "metadata": {},
     "output_type": "execute_result"
    }
   ],
   "source": [
    "speeches[1]['href']"
   ]
  },
  {
   "cell_type": "code",
   "execution_count": 15,
   "metadata": {},
   "outputs": [],
   "source": [
    "base = 'https://millercenter.org'"
   ]
  },
  {
   "cell_type": "code",
   "execution_count": 16,
   "metadata": {},
   "outputs": [],
   "source": [
    "response = r.get(base + speeches[0]['href'])"
   ]
  },
  {
   "cell_type": "code",
   "execution_count": 17,
   "metadata": {},
   "outputs": [],
   "source": [
    "soup = BeautifulSoup(response.text, 'html.parser')"
   ]
  },
  {
   "cell_type": "code",
   "execution_count": 18,
   "metadata": {},
   "outputs": [
    {
     "data": {
      "text/plain": [
       "'\\nTranscript\\nPRESIDENT TRUMP:\\xa0 Thank you very much.\\xa0 Thank you.\\nWell, thank you all for being here.\\xa0 We’ve had a tremendous three days in New York, at the United Nations.\\xa0 I want to thank the Secretary-General.\\xa0 It’s been really incredible what’s been taking place.\\xa0 And he’s been a fantastic host to a lot of countries.\\nThe meetings I had on a bilat, or close, were pretty staggering.\\xa0 I think we set a new record, but you’ll have to check that out.\\xa0 The — we met very, very — for pretty extended periods of time, either two and two, one on one, or just about at that level with Pakistan, Poland, New Zealand, Singapore, Egypt, South Korea, United Kingdom, India, Iraq, Argentina, Germany, Brazil, France, Japan, Ukraine, Honduras, El Salvador, Saudi Arabia, Jordan, Bahrain, Kuwait, Qatar, Oman, UAE, Chile, Colombia, Ecuador, and Peru.\\xa0 Other than that, we weren’t too busy over the last three days.\\nAnd, unfortunately, the press doesn’t even cover it.\\xa0 You know, we have — we’ve made some fantastic deals, like with Japan.\\xa0 For farmers, we have a tremendous trade deal with Japan.\\xa0 And that doesn’t get covered because you waste your time on nonsense.\\nThe PMI manufacturers’ index has gone substantially up, which was an incredible — Larry Kudlow, wherever you may be — Larry, please stand up.\\xa0 He just gave me these numbers.\\xa0 And existing new home sales are through the roof.\\xa0 Just came out.\\xa0 Oil prices have gone down ever since the Saudi Arabia incident, and they’ve gone down very substantially.\\xa0 So, we have plenty of oil.\\xa0 But those numbers were surprising to you, Larry.\\xa0 And the extent of the increase.\\xa0 Is that a correct statement?\\xa0 So thank you, Larry Kudlow.\\nWe think we’ll make this little announcement to you because — important.\\xa0 You know the so-called whistleblower?\\xa0 The one that didn’t have any first-class, or first-rate, or second-tier information, from what I understand.\\xa0 You’ll have to figure that out for yourself.\\xa0 But I’ve spoken with Leader Kevin McCarthy and the Republi'"
      ]
     },
     "execution_count": 18,
     "metadata": {},
     "output_type": "execute_result"
    }
   ],
   "source": [
    "soup.find(class_ = 'transcript-inner').text[:2000]"
   ]
  },
  {
   "cell_type": "code",
   "execution_count": 19,
   "metadata": {},
   "outputs": [
    {
     "data": {
      "text/plain": [
       "'Donald Trump'"
      ]
     },
     "execution_count": 19,
     "metadata": {},
     "output_type": "execute_result"
    }
   ],
   "source": [
    "soup.find(class_ = 'president-name').text"
   ]
  },
  {
   "cell_type": "code",
   "execution_count": 23,
   "metadata": {},
   "outputs": [],
   "source": [
    "links = (base + speech['href'] for speech in speeches)"
   ]
  },
  {
   "cell_type": "code",
   "execution_count": 24,
   "metadata": {},
   "outputs": [
    {
     "data": {
      "application/vnd.jupyter.widget-view+json": {
       "model_id": "7b6fa9653c3e426d9ebf096f587e0a82",
       "version_major": 2,
       "version_minor": 0
      },
      "text/plain": [
       "HBox(children=(IntProgress(value=0, max=992), HTML(value='')))"
      ]
     },
     "metadata": {},
     "output_type": "display_data"
    },
    {
     "name": "stdout",
     "output_type": "stream",
     "text": [
      "\n"
     ]
    }
   ],
   "source": [
    "transcripts = []\n",
    "ungotten_links = []\n",
    "for link in tqdm_notebook(links, total = len(speeches)):\n",
    "    response = r.get(link)\n",
    "    \n",
    "    if response.status_code == 200:\n",
    "        soup = BeautifulSoup(response.text, 'html.parser')\n",
    "        try:\n",
    "            transcripts.append({\n",
    "                'president': soup.find('p', class_ = 'president-name').text,\n",
    "                'date': soup.find('p', class_ = 'episode-date').text,\n",
    "                'transcript': soup.find(class_ = 'transcript-inner').text\n",
    "            })\n",
    "        except:\n",
    "            ungotten_links.append(link)"
   ]
  },
  {
   "cell_type": "code",
   "execution_count": 25,
   "metadata": {},
   "outputs": [
    {
     "name": "stdout",
     "output_type": "stream",
     "text": [
      "num Transcripts retrieved: 476\n",
      "num Transcripts in diff format: 515\n"
     ]
    }
   ],
   "source": [
    "print('num Transcripts retrieved:', len(transcripts))\n",
    "print('num Transcripts in diff format:', len(ungotten_links))"
   ]
  },
  {
   "cell_type": "code",
   "execution_count": 28,
   "metadata": {},
   "outputs": [
    {
     "name": "stdout",
     "output_type": "stream",
     "text": [
      "Dumped\n"
     ]
    }
   ],
   "source": [
    "with open('transcripts.json', 'w') as f:\n",
    "    json.dump(transcripts, f)\n",
    "    print('Dumped')"
   ]
  },
  {
   "cell_type": "code",
   "execution_count": 29,
   "metadata": {},
   "outputs": [],
   "source": [
    "with open('ungotten_links.json', 'w') as f:\n",
    "    json.dump(ungotten_links, f)"
   ]
  },
  {
   "cell_type": "code",
   "execution_count": 4,
   "metadata": {},
   "outputs": [],
   "source": [
    "with open('transcripts.json', 'r') as f:\n",
    "    transcripts = json.load(f)"
   ]
  },
  {
   "cell_type": "code",
   "execution_count": 5,
   "metadata": {},
   "outputs": [],
   "source": [
    "with open('ungotten_links.json', 'r') as f:\n",
    "    ungotten_links = json.load(f)"
   ]
  },
  {
   "cell_type": "code",
   "execution_count": 7,
   "metadata": {},
   "outputs": [
    {
     "data": {
      "application/vnd.jupyter.widget-view+json": {
       "model_id": "2022cbdc5cb549ac81b837d03585c4a5",
       "version_major": 2,
       "version_minor": 0
      },
      "text/plain": [
       "HBox(children=(IntProgress(value=0, max=515), HTML(value='')))"
      ]
     },
     "metadata": {},
     "output_type": "display_data"
    },
    {
     "name": "stdout",
     "output_type": "stream",
     "text": [
      "\n"
     ]
    }
   ],
   "source": [
    "links = (i for i in ungotten_links)\n",
    "ungotten_links2 = []\n",
    "for link in tqdm_notebook(links, total = len(ungotten_links)):\n",
    "    response = r.get(link)\n",
    "    \n",
    "    if response.status_code == 200:\n",
    "        soup = BeautifulSoup(response.text, 'html.parser')\n",
    "        try:\n",
    "            transcripts.append({\n",
    "                'president': soup.find('p', class_ = 'president-name').text,\n",
    "                'date': soup.find('p', class_ = 'episode-date').text,\n",
    "                'transcript': soup.find(class_ = 'view-transcript').text\n",
    "            })\n",
    "        except:\n",
    "            ungotten_links2.append(link)"
   ]
  },
  {
   "cell_type": "code",
   "execution_count": 8,
   "metadata": {},
   "outputs": [
    {
     "name": "stdout",
     "output_type": "stream",
     "text": [
      "num Transcripts retrieved: 991\n",
      "num Transcripts in diff format: 0\n"
     ]
    }
   ],
   "source": [
    "print('num Transcripts retrieved:', len(transcripts))\n",
    "print('num Transcripts in diff format:', len(ungotten_links2))"
   ]
  },
  {
   "cell_type": "code",
   "execution_count": 9,
   "metadata": {},
   "outputs": [
    {
     "name": "stdout",
     "output_type": "stream",
     "text": [
      "Dumped\n"
     ]
    }
   ],
   "source": [
    "with open('transcripts.json', 'w') as f:\n",
    "    json.dump(transcripts, f)\n",
    "    print('Dumped')"
   ]
  },
  {
   "cell_type": "code",
   "execution_count": 16,
   "metadata": {},
   "outputs": [
    {
     "data": {
      "text/html": [
       "<div>\n",
       "<style scoped>\n",
       "    .dataframe tbody tr th:only-of-type {\n",
       "        vertical-align: middle;\n",
       "    }\n",
       "\n",
       "    .dataframe tbody tr th {\n",
       "        vertical-align: top;\n",
       "    }\n",
       "\n",
       "    .dataframe thead th {\n",
       "        text-align: right;\n",
       "    }\n",
       "</style>\n",
       "<table border=\"1\" class=\"dataframe\">\n",
       "  <thead>\n",
       "    <tr style=\"text-align: right;\">\n",
       "      <th></th>\n",
       "      <th>date</th>\n",
       "      <th>president</th>\n",
       "      <th>transcript</th>\n",
       "    </tr>\n",
       "  </thead>\n",
       "  <tbody>\n",
       "    <tr>\n",
       "      <th>986</th>\n",
       "      <td>December 29, 1790</td>\n",
       "      <td>George Washington</td>\n",
       "      <td>Transcript I the President of the United State...</td>\n",
       "    </tr>\n",
       "    <tr>\n",
       "      <th>987</th>\n",
       "      <td>December 08, 1790</td>\n",
       "      <td>George Washington</td>\n",
       "      <td>Transcript Fellow citizens of the Senate and H...</td>\n",
       "    </tr>\n",
       "    <tr>\n",
       "      <th>988</th>\n",
       "      <td>January 08, 1790</td>\n",
       "      <td>George Washington</td>\n",
       "      <td>TranscriptFellow Citizens of the Senate and Ho...</td>\n",
       "    </tr>\n",
       "    <tr>\n",
       "      <th>989</th>\n",
       "      <td>October 03, 1789</td>\n",
       "      <td>George Washington</td>\n",
       "      <td>TranscriptWhereas it is the duty of all Nation...</td>\n",
       "    </tr>\n",
       "    <tr>\n",
       "      <th>990</th>\n",
       "      <td>April 30, 1789</td>\n",
       "      <td>George Washington</td>\n",
       "      <td>TranscriptFellow Citizens of the Senate and th...</td>\n",
       "    </tr>\n",
       "  </tbody>\n",
       "</table>\n",
       "</div>"
      ],
      "text/plain": [
       "                  date          president  \\\n",
       "986  December 29, 1790  George Washington   \n",
       "987  December 08, 1790  George Washington   \n",
       "988   January 08, 1790  George Washington   \n",
       "989   October 03, 1789  George Washington   \n",
       "990     April 30, 1789  George Washington   \n",
       "\n",
       "                                            transcript  \n",
       "986  Transcript I the President of the United State...  \n",
       "987  Transcript Fellow citizens of the Senate and H...  \n",
       "988  TranscriptFellow Citizens of the Senate and Ho...  \n",
       "989  TranscriptWhereas it is the duty of all Nation...  \n",
       "990  TranscriptFellow Citizens of the Senate and th...  "
      ]
     },
     "execution_count": 16,
     "metadata": {},
     "output_type": "execute_result"
    }
   ],
   "source": [
    "df = pd.DataFrame(transcripts)\n",
    "df.tail()"
   ]
  },
  {
   "cell_type": "code",
   "execution_count": 38,
   "metadata": {},
   "outputs": [],
   "source": [
    "def remove_transcript(string):\n",
    "    first_chars = string[0:50]\n",
    "    rest_chars = string[50::]\n",
    "    \n",
    "    first_chars = first_chars.replace('Transcript', '')\n",
    "    first_chars = first_chars.replace('\\nTranscript\\n', '')\n",
    "    return (first_chars + rest_chars).strip()"
   ]
  },
  {
   "cell_type": "code",
   "execution_count": 39,
   "metadata": {},
   "outputs": [],
   "source": [
    "df['transcript'] = df['transcript'].apply(lambda x: remove_transcript(x))"
   ]
  },
  {
   "cell_type": "code",
   "execution_count": 40,
   "metadata": {},
   "outputs": [
    {
     "data": {
      "text/html": [
       "<div>\n",
       "<style scoped>\n",
       "    .dataframe tbody tr th:only-of-type {\n",
       "        vertical-align: middle;\n",
       "    }\n",
       "\n",
       "    .dataframe tbody tr th {\n",
       "        vertical-align: top;\n",
       "    }\n",
       "\n",
       "    .dataframe thead th {\n",
       "        text-align: right;\n",
       "    }\n",
       "</style>\n",
       "<table border=\"1\" class=\"dataframe\">\n",
       "  <thead>\n",
       "    <tr style=\"text-align: right;\">\n",
       "      <th></th>\n",
       "      <th>date</th>\n",
       "      <th>president</th>\n",
       "      <th>transcript</th>\n",
       "    </tr>\n",
       "  </thead>\n",
       "  <tbody>\n",
       "    <tr>\n",
       "      <th>0</th>\n",
       "      <td>September 25, 2019</td>\n",
       "      <td>Donald Trump</td>\n",
       "      <td>PRESIDENT TRUMP:  Thank you very much.  Thank ...</td>\n",
       "    </tr>\n",
       "    <tr>\n",
       "      <th>1</th>\n",
       "      <td>September 24, 2019</td>\n",
       "      <td>Donald Trump</td>\n",
       "      <td>PRESIDENT TRUMP:  Thank you very much.  Mr. Pr...</td>\n",
       "    </tr>\n",
       "    <tr>\n",
       "      <th>2</th>\n",
       "      <td>February 15, 2019</td>\n",
       "      <td>Donald Trump</td>\n",
       "      <td>THE PRESIDENT:  Thank you very much, everybody...</td>\n",
       "    </tr>\n",
       "    <tr>\n",
       "      <th>3</th>\n",
       "      <td>February 05, 2019</td>\n",
       "      <td>Donald Trump</td>\n",
       "      <td>Madam Speaker, Mr. Vice President, Members of ...</td>\n",
       "    </tr>\n",
       "    <tr>\n",
       "      <th>4</th>\n",
       "      <td>January 19, 2019</td>\n",
       "      <td>Donald Trump</td>\n",
       "      <td>THE PRESIDENT: Just a short time ago, I had th...</td>\n",
       "    </tr>\n",
       "  </tbody>\n",
       "</table>\n",
       "</div>"
      ],
      "text/plain": [
       "                 date     president  \\\n",
       "0  September 25, 2019  Donald Trump   \n",
       "1  September 24, 2019  Donald Trump   \n",
       "2   February 15, 2019  Donald Trump   \n",
       "3   February 05, 2019  Donald Trump   \n",
       "4    January 19, 2019  Donald Trump   \n",
       "\n",
       "                                          transcript  \n",
       "0  PRESIDENT TRUMP:  Thank you very much.  Thank ...  \n",
       "1  PRESIDENT TRUMP:  Thank you very much.  Mr. Pr...  \n",
       "2  THE PRESIDENT:  Thank you very much, everybody...  \n",
       "3  Madam Speaker, Mr. Vice President, Members of ...  \n",
       "4  THE PRESIDENT: Just a short time ago, I had th...  "
      ]
     },
     "execution_count": 40,
     "metadata": {},
     "output_type": "execute_result"
    }
   ],
   "source": [
    "df.head()"
   ]
  },
  {
   "cell_type": "code",
   "execution_count": 45,
   "metadata": {},
   "outputs": [
    {
     "data": {
      "text/plain": [
       "44"
      ]
     },
     "execution_count": 45,
     "metadata": {},
     "output_type": "execute_result"
    }
   ],
   "source": [
    "df['president'].nunique()"
   ]
  },
  {
   "cell_type": "code",
   "execution_count": 46,
   "metadata": {},
   "outputs": [],
   "source": [
    "lengths = [len(i) for i in df['transcript']]"
   ]
  },
  {
   "cell_type": "code",
   "execution_count": 52,
   "metadata": {},
   "outputs": [
    {
     "data": {
      "text/plain": [
       "Text(0.5, 1.0, 'Character count distribution for all speeches')"
      ]
     },
     "execution_count": 52,
     "metadata": {},
     "output_type": "execute_result"
    },
    {
     "data": {
      "image/png": "[encoded data removed]",
      "text/plain": [
       "<Figure size 1080x504 with 1 Axes>"
      ]
     },
     "metadata": {
      "needs_background": "light"
     },
     "output_type": "display_data"
    }
   ],
   "source": [
    "ax = plt.figure(figsize=(15, 7))\n",
    "sns.distplot(lengths)\n",
    "plt.title('Character count distribution for all speeches')"
   ]
  },
  {
   "cell_type": "code",
   "execution_count": 54,
   "metadata": {},
   "outputs": [
    {
     "data": {
      "text/plain": [
       "Text(0.5, 1.0, 'Character count distribution for all speeches')"
      ]
     },
     "execution_count": 54,
     "metadata": {},
     "output_type": "execute_result"
    },
    {
     "data": {
      "image/png": "[encoded data removed]",
      "text/plain": [
       "<Figure size 1080x504 with 1 Axes>"
      ]
     },
     "metadata": {
      "needs_background": "light"
     },
     "output_type": "display_data"
    }
   ],
   "source": [
    "token_count = [len(i.split()) for i in df['transcript']]\n",
    "\n",
    "ax = plt.figure(figsize=(15, 7))\n",
    "sns.distplot(token_count)\n",
    "plt.title('Character count distribution for all speeches')"
   ]
  },
  {
   "cell_type": "code",
   "execution_count": 55,
   "metadata": {},
   "outputs": [],
   "source": [
    "df['num_tokens'] = [len(i.split()) for i in df['transcript']]"
   ]
  },
  {
   "cell_type": "code",
   "execution_count": 56,
   "metadata": {},
   "outputs": [
    {
     "data": {
      "text/html": [
       "<div>\n",
       "<style scoped>\n",
       "    .dataframe tbody tr th:only-of-type {\n",
       "        vertical-align: middle;\n",
       "    }\n",
       "\n",
       "    .dataframe tbody tr th {\n",
       "        vertical-align: top;\n",
       "    }\n",
       "\n",
       "    .dataframe thead th {\n",
       "        text-align: right;\n",
       "    }\n",
       "</style>\n",
       "<table border=\"1\" class=\"dataframe\">\n",
       "  <thead>\n",
       "    <tr style=\"text-align: right;\">\n",
       "      <th></th>\n",
       "      <th>num_tokens</th>\n",
       "    </tr>\n",
       "  </thead>\n",
       "  <tbody>\n",
       "    <tr>\n",
       "      <th>count</th>\n",
       "      <td>991.000000</td>\n",
       "    </tr>\n",
       "    <tr>\n",
       "      <th>mean</th>\n",
       "      <td>3901.732593</td>\n",
       "    </tr>\n",
       "    <tr>\n",
       "      <th>std</th>\n",
       "      <td>4141.365120</td>\n",
       "    </tr>\n",
       "    <tr>\n",
       "      <th>min</th>\n",
       "      <td>83.000000</td>\n",
       "    </tr>\n",
       "    <tr>\n",
       "      <th>25%</th>\n",
       "      <td>1156.500000</td>\n",
       "    </tr>\n",
       "    <tr>\n",
       "      <th>50%</th>\n",
       "      <td>2577.000000</td>\n",
       "    </tr>\n",
       "    <tr>\n",
       "      <th>75%</th>\n",
       "      <td>4766.000000</td>\n",
       "    </tr>\n",
       "    <tr>\n",
       "      <th>max</th>\n",
       "      <td>32755.000000</td>\n",
       "    </tr>\n",
       "  </tbody>\n",
       "</table>\n",
       "</div>"
      ],
      "text/plain": [
       "         num_tokens\n",
       "count    991.000000\n",
       "mean    3901.732593\n",
       "std     4141.365120\n",
       "min       83.000000\n",
       "25%     1156.500000\n",
       "50%     2577.000000\n",
       "75%     4766.000000\n",
       "max    32755.000000"
      ]
     },
     "execution_count": 56,
     "metadata": {},
     "output_type": "execute_result"
    }
   ],
   "source": [
    "df.describe()"
   ]
  },
  {
   "cell_type": "code",
   "execution_count": null,
   "metadata": {},
   "outputs": [],
   "source": [
    "df.to_json('transcripts.json')"
   ]
  }
 ],
 "metadata": {
  "kernelspec": {
   "display_name": "Python 3",
   "language": "python",
   "name": "python3"
  },
  "language_info": {
   "codemirror_mode": {
    "name": "ipython",
    "version": 3
   },
   "file_extension": ".py",
   "mimetype": "text/x-python",
   "name": "python",
   "nbconvert_exporter": "python",
   "pygments_lexer": "ipython3",
   "version": "3.7.3"
  }
 },
 "nbformat": 4,
 "nbformat_minor": 4
}
